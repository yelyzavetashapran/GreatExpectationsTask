{
 "cells": [
  {
   "cell_type": "markdown",
   "id": "d5adfad7",
   "metadata": {},
   "source": [
    "# Create a new sqlalchemy Datasource\n",
    "Use this notebook to configure a new sqlalchemy Datasource and add it to your project."
   ]
  },
  {
   "cell_type": "code",
   "execution_count": 1,
   "id": "fa4c5e03",
   "metadata": {},
   "outputs": [],
   "source": [
    "import great_expectations as gx\n",
    "from great_expectations.cli.datasource import sanitize_yaml_and_save_datasource, check_if_datasource_name_exists\n",
    "context = gx.get_context()"
   ]
  },
  {
   "cell_type": "markdown",
   "id": "989ab23b",
   "metadata": {},
   "source": [
    "## Customize Your Datasource Configuration\n",
    "\n",
    "**If you are new to Great Expectations Datasources,** you should check out our [how-to documentation](https://docs.greatexpectations.io/docs/guides/connecting_to_your_data/connect_to_data_overview)\n",
    "\n",
    "**My configuration is not so simple - are there more advanced options?**\n",
    "Glad you asked! Datasources are versatile. Please see our [How To Guides](https://docs.greatexpectations.io/docs/guides/connecting_to_your_data/connect_to_data_overview)!\n",
    "\n",
    "Give your datasource a unique name:"
   ]
  },
  {
   "cell_type": "code",
   "execution_count": 2,
   "id": "97c1faab",
   "metadata": {},
   "outputs": [],
   "source": [
    "datasource_name = \"my_datasource\""
   ]
  },
  {
   "cell_type": "markdown",
   "id": "3be90fdb",
   "metadata": {},
   "source": [
    "### For SQL based Datasources:\n",
    "\n",
    "Here we are creating an example configuration based on the database backend you specified in the CLI.  The configuration contains an **InferredAssetSqlDataConnector**, which will add a Data Asset for each table in the database, a **ConfiguredAssetDataConnector**, which will add explicitly defined Data Assets, and a **RuntimeDataConnector**, which can accept SQL queries.\n",
    "\n",
    "If any of these configuration options are not applicable, they can be removed. This is just an example, and you may customize this as you wish!\n",
    "\n",
    "Also, if you would like to learn more about the **DataConnectors** used in this configuration, please see our docs on [InferredAssetDataConnectors](https://docs.greatexpectations.io/docs/guides/connecting_to_your_data/how_to_configure_an_inferredassetdataconnector), [ConfiguredAssetDataConnectors](https://docs.greatexpectations.io/docs/guides/connecting_to_your_data/how_to_configure_a_configuredassetdataconnector), and [RuntimeDataConnectors](https://docs.greatexpectations.io/docs/guides/connecting_to_your_data/how_to_configure_a_runtimedataconnector).\n",
    "\n",
    "Credentials will not be saved until you run the last cell."
   ]
  },
  {
   "cell_type": "code",
   "execution_count": 3,
   "id": "286f7a9f",
   "metadata": {},
   "outputs": [],
   "source": [
    "# The url/connection string for the sqlalchemy connection\n",
    "# (reference: https://docs.sqlalchemy.org/en/latest/core/engines.html#database-urls)\n",
    "import urllib\n",
    "\n",
    "server = r'EPUAKYIW04F3\\SQLEXPRESS01'\n",
    "database = 'TRN'\n",
    "login = 'loginForTest'\n",
    "pwd = 'passwordfortest'\n",
    "\n",
    "params = urllib.parse.quote_plus(' DRIVER={ODBC Driver 17 for SQL Server}; \\\n",
    "                            SERVER=' + server + '; \\\n",
    "                            DATABASE=' + database + '; \\\n",
    "                            Trusted_Connection=yes;')\n",
    "\n",
    "connection_string = f\"mssql+pyodbc:///?odbc_connect={params}\" "
   ]
  },
  {
   "cell_type": "code",
   "execution_count": 4,
   "id": "4f4f2ab9",
   "metadata": {},
   "outputs": [
    {
     "name": "stdout",
     "output_type": "stream",
     "text": [
      "\n",
      "name: my_datasource\n",
      "class_name: Datasource\n",
      "execution_engine:\n",
      "  class_name: SqlAlchemyExecutionEngine\n",
      "  connection_string: mssql+pyodbc:///?odbc_connect=+DRIVER%3D%7BODBC+Driver+17+for+SQL+Server%7D%3B+++++++++++++++++++++++++++++SERVER%3DEPUAKYIW04F3%5CSQLEXPRESS01%3B+++++++++++++++++++++++++++++DATABASE%3DTRN%3B+++++++++++++++++++++++++++++Trusted_Connection%3Dyes%3B\n",
      "data_connectors:\n",
      "  default_runtime_data_connector_name:\n",
      "    class_name: RuntimeDataConnector\n",
      "    batch_identifiers:\n",
      "      - default_identifier_name\n",
      "  default_inferred_data_connector_name:\n",
      "    class_name: InferredAssetSqlDataConnector\n",
      "    include_schema_name: True\n"
     ]
    }
   ],
   "source": [
    "example_yaml = f\"\"\"\n",
    "name: {datasource_name}\n",
    "class_name: Datasource\n",
    "execution_engine:\n",
    "  class_name: SqlAlchemyExecutionEngine\n",
    "  connection_string: {connection_string}\n",
    "data_connectors:\n",
    "  default_runtime_data_connector_name:\n",
    "    class_name: RuntimeDataConnector\n",
    "    batch_identifiers:\n",
    "      - default_identifier_name\n",
    "  default_inferred_data_connector_name:\n",
    "    class_name: InferredAssetSqlDataConnector\n",
    "    include_schema_name: True\"\"\"\n",
    "print(example_yaml)"
   ]
  },
  {
   "cell_type": "markdown",
   "id": "b7256caf",
   "metadata": {},
   "source": [
    "# Test Your Datasource Configuration\n",
    "Here we will test your Datasource configuration to make sure it is valid.\n",
    "\n",
    "This `test_yaml_config()` function is meant to enable fast dev loops. **If your\n",
    "configuration is correct, this cell will show you some snippets of the data\n",
    "assets in the data source.** You can continually edit your Datasource config\n",
    "yaml and re-run the cell to check until the new config is valid.\n",
    "\n",
    "If you instead wish to use python instead of yaml to configure your Datasource,\n",
    "you can use `context.add_datasource()` and specify all the required parameters."
   ]
  },
  {
   "cell_type": "code",
   "execution_count": 5,
   "id": "e8645cf2",
   "metadata": {},
   "outputs": [
    {
     "name": "stdout",
     "output_type": "stream",
     "text": [
      "Attempting to instantiate class from config...\n",
      "\tInstantiating as a Datasource, since class_name is Datasource\n",
      "\tSuccessfully instantiated Datasource\n",
      "\n",
      "\n",
      "ExecutionEngine class name: SqlAlchemyExecutionEngine\n",
      "Data Connectors:\n",
      "\tdefault_inferred_data_connector_name : InferredAssetSqlDataConnector\n",
      "\n",
      "\tAvailable data_asset_names (3 of 7):\n",
      "\t\thr.countries (1 of 1): [{}]\n",
      "\t\thr.departments (1 of 1): [{}]\n",
      "\t\thr.dependents (1 of 1): [{}]\n",
      "\n",
      "\tUnmatched data_references (0 of 0):[]\n",
      "\n",
      "\tdefault_runtime_data_connector_name:RuntimeDataConnector\n",
      "\n",
      "\tAvailable data_asset_names (0 of 0):\n",
      "\t\tNote : RuntimeDataConnector will not have data_asset_names until they are passed in through RuntimeBatchRequest\n",
      "\n",
      "\tUnmatched data_references (0 of 0): []\n",
      "\n"
     ]
    },
    {
     "data": {
      "text/plain": [
       "<great_expectations.datasource.new_datasource.Datasource at 0x1873e2866e0>"
      ]
     },
     "execution_count": 5,
     "metadata": {},
     "output_type": "execute_result"
    }
   ],
   "source": [
    "context.test_yaml_config(yaml_config=example_yaml)"
   ]
  },
  {
   "cell_type": "markdown",
   "id": "123ce3e6",
   "metadata": {},
   "source": [
    "## Save Your Datasource Configuration\n",
    "Here we will save your Datasource in your Data Context once you are satisfied with the configuration. Note that `overwrite_existing` defaults to False, but you may change it to True if you wish to overwrite. Please note that if you wish to include comments you must add them directly to your `great_expectations.yml`."
   ]
  },
  {
   "cell_type": "code",
   "execution_count": 6,
   "id": "d30d107f",
   "metadata": {},
   "outputs": [
    {
     "data": {
      "text/plain": [
       "[{'module_name': 'great_expectations.datasource',\n",
       "  'data_connectors': {'default_runtime_data_connector_name': {'module_name': 'great_expectations.datasource.data_connector',\n",
       "    'batch_identifiers': ['default_identifier_name'],\n",
       "    'class_name': 'RuntimeDataConnector'},\n",
       "   'default_inferred_data_connector_name': {'module_name': 'great_expectations.datasource.data_connector',\n",
       "    'include_schema_name': True,\n",
       "    'class_name': 'InferredAssetSqlDataConnector'}},\n",
       "  'execution_engine': {'connection_string': 'mssql+pyodbc:///?odbc_connect=+DRIVER%3D%7BODBC+Driver+17+for+SQL+Server%7D%3B+++++++++++++++++++++++++++++SERVER%3DEPUAKYIW04F3%5CSQLEXPRESS01%3B+++++++++++++++++++++++++++++DATABASE%3DTRN%3B+++++++++++++++++++++++++++++Trusted_Connection%3Dyes%3B',\n",
       "   'module_name': 'great_expectations.execution_engine',\n",
       "   'class_name': 'SqlAlchemyExecutionEngine'},\n",
       "  'class_name': 'Datasource',\n",
       "  'name': 'my_datasource'}]"
      ]
     },
     "execution_count": 6,
     "metadata": {},
     "output_type": "execute_result"
    }
   ],
   "source": [
    "sanitize_yaml_and_save_datasource(context, example_yaml, overwrite_existing=False)\n",
    "context.list_datasources()"
   ]
  },
  {
   "cell_type": "markdown",
   "id": "ba3af66c",
   "metadata": {},
   "source": [
    "Now you can close this notebook and delete it!"
   ]
  }
 ],
 "metadata": {
  "kernelspec": {
   "display_name": "Python 3 (ipykernel)",
   "language": "python",
   "name": "python3"
  },
  "language_info": {
   "codemirror_mode": {
    "name": "ipython",
    "version": 3
   },
   "file_extension": ".py",
   "mimetype": "text/x-python",
   "name": "python",
   "nbconvert_exporter": "python",
   "pygments_lexer": "ipython3",
   "version": "3.10.0"
  }
 },
 "nbformat": 4,
 "nbformat_minor": 5
}
